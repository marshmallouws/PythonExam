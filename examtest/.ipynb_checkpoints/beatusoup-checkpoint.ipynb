{
 "cells": [
  {
   "cell_type": "code",
   "execution_count": 1,
   "metadata": {},
   "outputs": [],
   "source": [
    "import bs4\n",
    "import requests\n",
    "import re\n",
    "from time import sleep"
   ]
  },
  {
   "cell_type": "code",
   "execution_count": 3,
   "metadata": {},
   "outputs": [
    {
     "name": "stdout",
     "output_type": "stream",
     "text": [
      "200\n",
      "The phrase “Drop it like it’s hot” existed in hip-hop for many years before this song—but Snoop and Pharrell undoubtedly brought it to new heights when this became Snoop’s first ever #1 hit on Billboard.\n",
      "Snoop and Pharrell recalled the making of this song on GGN including how Pharrell came up with the hook, what inspired the spray can sound on the beat, how P made Snoop rewrite his second verse, and how Chad Hugo added the synth drop to the beat:\n",
      "Everyone from Lil Flip to Positive K to Jay Z had used the phrase on songs before this came out, but it was made famous by a 17-year-old Lil Wayne when he uttered it on Juvenile’s 1999 smash “Back That Azz Up.” Lil Wayne later responded to this song with “Nah This Ain’t The Remix” by remaking the hook, and admitting to being a “little upset” before ultimately giving Snoop his props by paraphrasing a line from Jay Z’s “Takeover”\n",
      "Nah, I ain’t a hater, don’t get me wrong\n",
      "I made it a hot line, you made it a hot song\n",
      "This song was released as a playable track in the Rock Band game series, albeit as an alternate rock remix to better fit with the game setting.\n",
      "\n"
     ]
    }
   ],
   "source": [
    "response = requests.get(\"https://genius.com/Snoop-dogg-drop-it-like-its-hot-lyrics\")\n",
    "print(response.status_code)\n",
    "soup = bs4.BeautifulSoup(response.content, \"html.parser\")\n",
    "comment = soup.find(\"div\", {\"class\": \"hwxsoX\"})\n",
    "result = \"We couldn't find much buzz about this song :(\" if comment is None else re.sub(r'^https?:\\/\\/.*[\\r\\n]*', '', comment.getText(), flags=re.MULTILINE)\n",
    "print(result)\n",
    "\n",
    "#print(soup.prettify())"
   ]
  },
  {
   "cell_type": "code",
   "execution_count": 36,
   "metadata": {},
   "outputs": [
    {
     "name": "stdout",
     "output_type": "stream",
     "text": [
      "200\n",
      "The phrase “Drop it like it’s hot” existed in hip-hop for many years before this song—but Snoop and Pharrell undoubtedly brought it to new heights when this became Snoop’s first\n"
     ]
    }
   ],
   "source": [
    "response = requests.get(\"https://genius.com/Snoop-dogg-drop-it-like-its-hot-lyrics\")\n",
    "print(response.status_code)\n",
    "soup = bs4.BeautifulSoup(response.content, \"html.parser\")\n",
    "description = soup.find(\"meta\", property=\"og:description\")\n",
    "result = \"We couldn't find much buzz about this song :(\" if description is None else re.sub(r'^https?:\\/\\/.*[\\r\\n]*', '', description['content'], flags=re.MULTILINE)\n",
    "print(result)"
   ]
  },
  {
   "cell_type": "code",
   "execution_count": 39,
   "metadata": {},
   "outputs": [
    {
     "name": "stdout",
     "output_type": "stream",
     "text": [
      "200\n",
      "The phrase “Drop it like it’s hot” existed in hip-hop for many years before this song—but Snoop and Pharrell undoubtedly brought it to new heights when this became Snoop’s first ever #1 hit on Billboard.\n",
      "Snoop and Pharrell recalled the making of this song on GGN including how Pharrell came up with the hook, what inspired the spray can sound on the beat, how P made Snoop rewrite his second verse, and how Chad Hugo added the synth drop to the beat:\n",
      "Everyone from Lil Flip to Positive K to Jay Z had used the phrase on songs before this came out, but it was made famous by a 17-year-old Lil Wayne when he uttered it on Juvenile’s 1999 smash “Back That Azz Up.” Lil Wayne later responded to this song with “Nah This Ain’t The Remix” by remaking the hook, and admitting to being a “little upset” before ultimately giving Snoop his props by paraphrasing a line from Jay Z’s “Takeover”\n",
      "Nah, I ain’t a hater, don’t get me wrong\n",
      "I made it a hot line, you made it a hot song\n",
      "This song was released as a playable track in the Rock Band game series, albeit as an alternate rock remix to better fit with the game setting.\n",
      "\n"
     ]
    }
   ],
   "source": [
    "response = requests.get(\"https://genius.com/Snoop-dogg-drop-it-like-its-hot-lyrics\")\n",
    "print(response.status_code)\n",
    "soup = bs4.BeautifulSoup(response.content, \"html.parser\")\n",
    "comment = soup.find(\"div\", {\"class\": \"ikywhQ\"}) #about box\n",
    "result = \"We couldn't find much buzz about this song :(\" if comment is None else re.sub(r'^https?:\\/\\/.*[\\r\\n]*', '', comment.getText(), flags=re.MULTILINE)\n",
    "print(result)"
   ]
  },
  {
   "cell_type": "code",
   "execution_count": 2,
   "metadata": {},
   "outputs": [
    {
     "name": "stdout",
     "output_type": "stream",
     "text": [
      "200\n",
      "The expression \"Drop it like it's hot\" means moving your butt down to the dancefloor, something rappers often implore women to do, as in the Lil' Jon & Eastside Boyz song \"Get Low.\" The expression was initially popularized when it was used during a rap by Lil' Wayne on Juvenile's 1999 single \"Back That Azz Up.\"Snoop Dogg mentions his affiliation with Los Angeles gang the Crips when he raps about his \"Blue Flag\" (Crip colors) on the \"Left Side,\" which he says is the \"Crip Side.\"Pharrell Williams is featured in the first verse of the song. Along with his Neptunes partner Chad Hugo, he produced the track.Jay-Z did a remake of this song where he mentions R. Kelly, telling him to drop the lawsuit Kelly filed against him like it's hot.Snoop Dogg Snoop rewrote and re-recorded the track in 2012 under the new title \"Pocket Like It's Hot\" for a campaign for US microwavable snack brand Hot Pockets.\n"
     ]
    }
   ],
   "source": [
    "headers = {'User-Agent': 'Googlebot/2.1'}\n",
    "response = requests.get(\"https://www.songfacts.com/facts/snoop-dogg/drop-it-like-its-hot\",headers=headers)\n",
    "print(response.status_code)\n",
    "soup = bs4.BeautifulSoup(response.content, \"html.parser\")\n",
    "comment = soup.find(\"ul\", {\"class\": \"songfacts-results\"})\n",
    "result = \"We couldn't find much buzz about this song :(\" if comment is None else comment.getText()\n",
    "print(result)\n",
    "#print(soup.prettify())"
   ]
  },
  {
   "cell_type": "code",
   "execution_count": 3,
   "metadata": {},
   "outputs": [
    {
     "name": "stdout",
     "output_type": "stream",
     "text": [
      "[]\n"
     ]
    }
   ],
   "source": [
    "response = requests.get(\"https://genius.com/search?q=\" + \"snoop dogg drop it like its hot\")\n",
    "soup = bs4.BeautifulSoup(response.content, \"html.parser\")\n",
    "\n",
    "links = soup.find_all(\"a\", {\"class\": \"mini-card\"})\n",
    "print(links)\n",
    "\n",
    "#print(soup.prettify())"
   ]
  },
  {
   "cell_type": "code",
   "execution_count": null,
   "metadata": {},
   "outputs": [],
   "source": [
    "# scraper.py\n",
    "import "
   ]
  }
 ],
 "metadata": {
  "kernelspec": {
   "display_name": "Python 3",
   "language": "python",
   "name": "python3"
  },
  "language_info": {
   "codemirror_mode": {
    "name": "ipython",
    "version": 3
   },
   "file_extension": ".py",
   "mimetype": "text/x-python",
   "name": "python",
   "nbconvert_exporter": "python",
   "pygments_lexer": "ipython3",
   "version": "3.7.6"
  }
 },
 "nbformat": 4,
 "nbformat_minor": 4
}
