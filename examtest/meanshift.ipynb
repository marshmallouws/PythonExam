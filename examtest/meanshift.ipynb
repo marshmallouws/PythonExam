{
 "cells": [
  {
   "cell_type": "code",
   "execution_count": 1,
   "metadata": {},
   "outputs": [],
   "source": [
    "import pandas as pd\n",
    "import matplotlib.pyplot as plt\n",
    "from sklearn.cluster import MeanShift, estimate_bandwidth"
   ]
  },
  {
   "cell_type": "code",
   "execution_count": 2,
   "metadata": {},
   "outputs": [
    {
     "output_type": "execute_result",
     "data": {
      "text/plain": "                    song_name  song_popularity  song_duration_ms  \\\n0  Boulevard of Broken Dreams               73            262333   \n1                  In The End               66            216933   \n2           Seven Nation Army               76            231733   \n3                  By The Way               74            216933   \n4           How You Remind Me               56            223826   \n\n   acousticness  danceability  energy  instrumentalness  key  liveness  \\\n0      0.005520         0.496   0.682          0.000029    8    0.0589   \n1      0.010300         0.542   0.853          0.000000    3    0.1080   \n2      0.008170         0.737   0.463          0.447000    0    0.2550   \n3      0.026400         0.451   0.970          0.003550    0    0.1020   \n4      0.000954         0.447   0.766          0.000000   10    0.1130   \n\n   loudness  audio_mode  speechiness    tempo  time_signature  audio_valence  \n0    -4.095           1       0.0294  167.060               4          0.474  \n1    -6.407           0       0.0498  105.256               4          0.370  \n2    -7.828           1       0.0792  123.881               4          0.324  \n3    -4.938           1       0.1070  122.444               4          0.198  \n4    -5.065           1       0.0313  172.011               4          0.574  ",
      "text/html": "<div>\n<style scoped>\n    .dataframe tbody tr th:only-of-type {\n        vertical-align: middle;\n    }\n\n    .dataframe tbody tr th {\n        vertical-align: top;\n    }\n\n    .dataframe thead th {\n        text-align: right;\n    }\n</style>\n<table border=\"1\" class=\"dataframe\">\n  <thead>\n    <tr style=\"text-align: right;\">\n      <th></th>\n      <th>song_name</th>\n      <th>song_popularity</th>\n      <th>song_duration_ms</th>\n      <th>acousticness</th>\n      <th>danceability</th>\n      <th>energy</th>\n      <th>instrumentalness</th>\n      <th>key</th>\n      <th>liveness</th>\n      <th>loudness</th>\n      <th>audio_mode</th>\n      <th>speechiness</th>\n      <th>tempo</th>\n      <th>time_signature</th>\n      <th>audio_valence</th>\n    </tr>\n  </thead>\n  <tbody>\n    <tr>\n      <td>0</td>\n      <td>Boulevard of Broken Dreams</td>\n      <td>73</td>\n      <td>262333</td>\n      <td>0.005520</td>\n      <td>0.496</td>\n      <td>0.682</td>\n      <td>0.000029</td>\n      <td>8</td>\n      <td>0.0589</td>\n      <td>-4.095</td>\n      <td>1</td>\n      <td>0.0294</td>\n      <td>167.060</td>\n      <td>4</td>\n      <td>0.474</td>\n    </tr>\n    <tr>\n      <td>1</td>\n      <td>In The End</td>\n      <td>66</td>\n      <td>216933</td>\n      <td>0.010300</td>\n      <td>0.542</td>\n      <td>0.853</td>\n      <td>0.000000</td>\n      <td>3</td>\n      <td>0.1080</td>\n      <td>-6.407</td>\n      <td>0</td>\n      <td>0.0498</td>\n      <td>105.256</td>\n      <td>4</td>\n      <td>0.370</td>\n    </tr>\n    <tr>\n      <td>2</td>\n      <td>Seven Nation Army</td>\n      <td>76</td>\n      <td>231733</td>\n      <td>0.008170</td>\n      <td>0.737</td>\n      <td>0.463</td>\n      <td>0.447000</td>\n      <td>0</td>\n      <td>0.2550</td>\n      <td>-7.828</td>\n      <td>1</td>\n      <td>0.0792</td>\n      <td>123.881</td>\n      <td>4</td>\n      <td>0.324</td>\n    </tr>\n    <tr>\n      <td>3</td>\n      <td>By The Way</td>\n      <td>74</td>\n      <td>216933</td>\n      <td>0.026400</td>\n      <td>0.451</td>\n      <td>0.970</td>\n      <td>0.003550</td>\n      <td>0</td>\n      <td>0.1020</td>\n      <td>-4.938</td>\n      <td>1</td>\n      <td>0.1070</td>\n      <td>122.444</td>\n      <td>4</td>\n      <td>0.198</td>\n    </tr>\n    <tr>\n      <td>4</td>\n      <td>How You Remind Me</td>\n      <td>56</td>\n      <td>223826</td>\n      <td>0.000954</td>\n      <td>0.447</td>\n      <td>0.766</td>\n      <td>0.000000</td>\n      <td>10</td>\n      <td>0.1130</td>\n      <td>-5.065</td>\n      <td>1</td>\n      <td>0.0313</td>\n      <td>172.011</td>\n      <td>4</td>\n      <td>0.574</td>\n    </tr>\n  </tbody>\n</table>\n</div>"
     },
     "metadata": {},
     "execution_count": 2
    }
   ],
   "source": [
    "df = pd.read_csv(\"data/song_data.csv\")\n",
    "df.head()"
   ]
  },
  {
   "cell_type": "code",
   "execution_count": 3,
   "metadata": {},
   "outputs": [],
   "source": [
    "def find_meanshift(data):\n",
    "    bandwidth = estimate_bandwidth(data, quantile=0.2)\n",
    "    ms = MeanShift(bandwidth=bandwidth, bin_seeding=True)\n",
    "    ms.fit(data)\n",
    "    clusters = ms.cluster_centers_\n",
    "    labels = ms.labels_\n",
    "    number_clusters = len(clusters)\n",
    "    return labels, clusters, number_clusters"
   ]
  },
  {
   "cell_type": "code",
   "execution_count": 4,
   "metadata": {},
   "outputs": [],
   "source": [
    "data = df.iloc[:,1:]\n",
    "labels, clusters, number_clusters = find_meanshift(data)"
   ]
  },
  {
   "cell_type": "code",
   "execution_count": 5,
   "metadata": {},
   "outputs": [
    {
     "output_type": "execute_result",
     "data": {
      "text/plain": "array([[ 5.45895019e+01,  2.04619117e+05,  2.23080030e-01,\n         6.42236860e-01,  6.67124538e-01,  5.08687382e-02,\n         5.33601024e+00,  1.78606972e-01, -6.81413094e+00,\n         6.12546555e-01,  1.02231134e-01,  1.21400527e+02,\n         3.96578212e+00,  5.25566027e-01],\n       [ 4.73170732e+01,  4.87390366e+05,  2.39587576e-01,\n         5.67536585e-01,  6.36725610e-01,  2.70723427e-01,\n         5.02439024e+00,  2.32358537e-01, -9.14731707e+00,\n         5.36585366e-01,  8.72609756e-02,  1.23897073e+02,\n         4.00000000e+00,  4.35031707e-01],\n       [ 4.70937500e+01,  5.13619156e+05,  3.06194781e-01,\n         5.42468750e-01,  6.60029687e-01,  1.69144188e-01,\n         5.34375000e+00,  2.60706250e-01, -9.56668750e+00,\n         6.56250000e-01,  9.73687500e-02,  1.25494562e+02,\n         4.03125000e+00,  4.86912500e-01],\n       [ 4.80666667e+01,  5.55655667e+05,  2.65109333e-01,\n         4.77333333e-01,  6.94666667e-01,  3.37368667e-01,\n         5.13333333e+00,  2.82033333e-01, -9.58960000e+00,\n         6.00000000e-01,  6.90466667e-02,  1.13499867e+02,\n         4.06666667e+00,  4.09333333e-01],\n       [ 4.86000000e+01,  6.16463800e+05,  3.07400000e-01,\n         5.67800000e-01,  7.06200000e-01,  6.36615200e-03,\n         7.20000000e+00,  2.35400000e-01, -6.18340000e+00,\n         0.00000000e+00,  7.62400000e-02,  9.94098000e+01,\n         4.00000000e+00,  6.12800000e-01],\n       [ 3.70000000e+01,  6.59679750e+05,  2.13875000e-02,\n         6.71000000e-01,  8.48250000e-01,  4.55750000e-01,\n         2.50000000e+00,  1.81725000e-01, -7.99525000e+00,\n         1.00000000e+00,  4.96750000e-02,  1.24776750e+02,\n         4.00000000e+00,  7.51250000e-01],\n       [ 3.52500000e+01,  7.47502000e+05,  5.38500000e-01,\n         5.46000000e-01,  6.50500000e-01,  2.14690650e-01,\n         5.75000000e+00,  3.49000000e-01, -9.21200000e+00,\n         7.50000000e-01,  1.55450000e-01,  1.17257000e+02,\n         4.00000000e+00,  5.52250000e-01],\n       [ 2.02500000e+01,  8.41658500e+05,  4.46225000e-01,\n         4.09750000e-01,  6.39750000e-01,  5.07425000e-01,\n         5.00000000e+00,  3.24150000e-01, -1.11002500e+01,\n         7.50000000e-01,  4.62250000e-02,  1.11165250e+02,\n         4.00000000e+00,  5.93000000e-01],\n       [ 5.90000000e+01,  1.35593800e+06,  3.08000000e-04,\n         1.97000000e-01,  8.37000000e-01,  7.52000000e-01,\n         9.00000000e+00,  1.02000000e-01, -8.95800000e+00,\n         1.00000000e+00,  6.26000000e-02,  1.86443000e+02,\n         4.00000000e+00,  1.36000000e-01],\n       [ 5.30000000e+01,  1.23366600e+06,  7.87000000e-02,\n         3.45000000e-01,  7.95000000e-01,  1.65000000e-03,\n         2.00000000e+00,  1.80000000e-01, -7.44000000e+00,\n         1.00000000e+00,  1.08000000e-01,  1.34141000e+02,\n         4.00000000e+00,  1.89000000e-01],\n       [ 2.40000000e+01,  1.04793300e+06,  9.85000000e-01,\n         5.86000000e-01,  1.17000000e-01,  2.84000000e-05,\n         1.10000000e+01,  3.90000000e-01, -2.91100000e+01,\n         1.00000000e+00,  8.31000000e-01,  1.33891000e+02,\n         4.00000000e+00,  2.74000000e-01],\n       [ 2.30000000e+01,  1.79934600e+06,  4.68000000e-01,\n         7.37000000e-01,  8.49000000e-01,  1.87000000e-03,\n         0.00000000e+00,  8.62000000e-02, -5.58700000e+00,\n         0.00000000e+00,  6.88000000e-02,  9.81620000e+01,\n         4.00000000e+00,  6.86000000e-01]])"
     },
     "metadata": {},
     "execution_count": 5
    }
   ],
   "source": [
    "clusters "
   ]
  },
  {
   "cell_type": "code",
   "execution_count": 6,
   "metadata": {
    "tags": [
     "outputPrepend",
     "outputPrepend",
     "outputPrepend",
     "outputPrepend",
     "outputPrepend",
     "outputPrepend",
     "outputPrepend",
     "outputPrepend",
     "outputPrepend",
     "outputPrepend",
     "outputPrepend",
     "outputPrepend",
     "outputPrepend",
     "outputPrepend",
     "outputPrepend",
     "outputPrepend",
     "outputPrepend",
     "outputPrepend",
     "outputPrepend",
     "outputPrepend",
     "outputPrepend",
     "outputPrepend",
     "outputPrepend",
     "outputPrepend",
     "outputPrepend",
     "outputPrepend",
     "outputPrepend",
     "outputPrepend",
     "outputPrepend",
     "outputPrepend",
     "outputPrepend",
     "outputPrepend",
     "outputPrepend",
     "outputPrepend",
     "outputPrepend",
     "outputPrepend",
     "outputPrepend",
     "outputPrepend",
     "outputPrepend",
     "outputPrepend",
     "outputPrepend",
     "outputPrepend",
     "outputPrepend",
     "outputPrepend",
     "outputPrepend",
     "outputPrepend",
     "outputPrepend",
     "outputPrepend",
     "outputPrepend",
     "outputPrepend",
     "outputPrepend",
     "outputPrepend",
     "outputPrepend",
     "outputPrepend",
     "outputPrepend",
     "outputPrepend",
     "outputPrepend",
     "outputPrepend",
     "outputPrepend",
     "outputPrepend",
     "outputPrepend",
     "outputPrepend",
     "outputPrepend",
     "outputPrepend",
     "outputPrepend",
     "outputPrepend",
     "outputPrepend",
     "outputPrepend",
     "outputPrepend",
     "outputPrepend",
     "outputPrepend",
     "outputPrepend",
     "outputPrepend",
     "outputPrepend",
     "outputPrepend",
     "outputPrepend",
     "outputPrepend",
     "outputPrepend",
     "outputPrepend",
     "outputPrepend",
     "outputPrepend",
     "outputPrepend",
     "outputPrepend",
     "outputPrepend",
     "outputPrepend",
     "outputPrepend",
     "outputPrepend",
     "outputPrepend",
     "outputPrepend",
     "outputPrepend",
     "outputPrepend",
     "outputPrepend",
     "outputPrepend",
     "outputPrepend",
     "outputPrepend",
     "outputPrepend",
     "outputPrepend",
     "outputPrepend",
     "outputPrepend",
     "outputPrepend",
     "outputPrepend",
     "outputPrepend",
     "outputPrepend",
     "outputPrepend",
     "outputPrepend",
     "outputPrepend",
     "outputPrepend",
     "outputPrepend",
     "outputPrepend",
     "outputPrepend",
     "outputPrepend",
     "outputPrepend",
     "outputPrepend",
     "outputPrepend",
     "outputPrepend",
     "outputPrepend",
     "outputPrepend",
     "outputPrepend",
     "outputPrepend",
     "outputPrepend",
     "outputPrepend",
     "outputPrepend",
     "outputPrepend",
     "outputPrepend",
     "outputPrepend",
     "outputPrepend",
     "outputPrepend",
     "outputPrepend",
     "outputPrepend",
     "outputPrepend",
     "outputPrepend",
     "outputPrepend",
     "outputPrepend"
    ]
   },
   "outputs": [
    {
     "output_type": "execute_result",
     "data": {
      "text/plain": "['Boulevard of Broken Dreams - Green Day',\n 'In The End - Linkin Park',\n 'Seven Nation Army - The White Stripes',\n 'By The Way - Red Hot Chili Peppers',\n 'How You Remind Me - Nickelback']"
     },
     "metadata": {},
     "execution_count": 6
    }
   ],
   "source": [
    "import pandas as pd\n",
    "\n",
    "df = pd.read_csv(\"data/song_info.csv\")\n",
    "df = df.head()\n",
    "songlist = []\n",
    "for idx, row in df.iterrows():\n",
    "    songlist.append(row[\"song_name\"] + \" - \" + row[\"artist_name\"])\n",
    "\n",
    "songlist"
   ]
  },
  {
   "cell_type": "code",
   "execution_count": null,
   "metadata": {},
   "outputs": [],
   "source": []
  }
 ],
 "metadata": {
  "kernelspec": {
   "display_name": "Python 3",
   "language": "python",
   "name": "python3"
  },
  "language_info": {
   "codemirror_mode": {
    "name": "ipython",
    "version": 3
   },
   "file_extension": ".py",
   "mimetype": "text/x-python",
   "name": "python",
   "nbconvert_exporter": "python",
   "pygments_lexer": "ipython3",
   "version": "3.7.4-final"
  }
 },
 "nbformat": 4,
 "nbformat_minor": 2
}