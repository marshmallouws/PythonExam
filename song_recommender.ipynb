{
 "cells": [
  {
   "cell_type": "code",
   "execution_count": 1,
   "metadata": {},
   "outputs": [
    {
     "output_type": "execute_result",
     "data": {
      "text/plain": "[Song('Fangs', 'Night Riots', 56, 'Fangs'),\n Song('Nightmares By The Sea', 'Jeff Buckley', 43, 'Sketches for My Sweetheart The Drunk'),\n Song('Angels', 'Sarah Reeves', 3, 'Easy Never Needed You'),\n Song('Beautiful', 'Ferry Corsten', 40, 'L.E.F.'),\n Song('Secret', 'Chelsea Lankes', 1, 'Secret'),\n Song('Sweet Escape', 'Alesso', 22, 'Forever'),\n Song('Zanzibar', 'Kamaliza', 5, 'Zanzibar'),\n Song('Nefertiti', 'Protistas', 25, 'Nefertiti'),\n Song('Rust to Gold', 'Council', 2, 'Rust to Gold'),\n Song('Never Meant to Be', 'Welshly Arms', 55, 'Welshly Arms')]"
     },
     "metadata": {},
     "execution_count": 1
    }
   ],
   "source": [
    "import song_recommender as sr\n",
    "\n",
    "# example liked songs\n",
    "lSongs = [1, 2, 3, 4, 5, 6, 7, 8, 9]\n",
    "\n",
    "#example disliked songs\n",
    "dSongs = [100]\n",
    "\n",
    "#creating the result. Last param controls whether or not the plots should be drawn.\n",
    "#Since the plots are returned as bytestrings, we are not interested in showing the plots.\n",
    "result = sr.recommend_songs(lSongs, dSongs, False)\n",
    "\n",
    "#showing the chosen recommended songs\n",
    "rSongList = result[0]\n",
    "rSongList\n",
    "\n",
    "\n",
    "\n",
    "\n"
   ]
  },
  {
   "cell_type": "code",
   "execution_count": null,
   "metadata": {},
   "outputs": [],
   "source": []
  }
 ],
 "metadata": {
  "language_info": {
   "codemirror_mode": {
    "name": "ipython",
    "version": 3
   },
   "file_extension": ".py",
   "mimetype": "text/x-python",
   "name": "python",
   "nbconvert_exporter": "python",
   "pygments_lexer": "ipython3",
   "version": "3.7.4-final"
  },
  "orig_nbformat": 2,
  "kernelspec": {
   "name": "python3",
   "display_name": "Python 3"
  }
 },
 "nbformat": 4,
 "nbformat_minor": 2
}