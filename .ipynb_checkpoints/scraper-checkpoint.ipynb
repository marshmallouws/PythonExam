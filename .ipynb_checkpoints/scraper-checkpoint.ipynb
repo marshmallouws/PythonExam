{
 "cells": [
  {
   "cell_type": "code",
   "execution_count": 1,
   "metadata": {},
   "outputs": [],
   "source": [
    "import bs4\n",
    "import requests\n",
    "import re\n",
    "from time import sleep"
   ]
  },
  {
   "cell_type": "code",
   "execution_count": 3,
   "metadata": {},
   "outputs": [
    {
     "name": "stdout",
     "output_type": "stream",
     "text": [
      "200\n",
      "The phrase “Drop it like it’s hot” existed in hip-hop for many years before this song—but Snoop and Pharrell undoubtedly brought it to new heights when this became Snoop’s first ever #1 hit on Billboard.\n",
      "Snoop and Pharrell recalled the making of this song on GGN including how Pharrell came up with the hook, what inspired the spray can sound on the beat, how P made Snoop rewrite his second verse, and how Chad Hugo added the synth drop to the beat:\n",
      "Everyone from Lil Flip to Positive K to Jay Z had used the phrase on songs before this came out, but it was made famous by a 17-year-old Lil Wayne when he uttered it on Juvenile’s 1999 smash “Back That Azz Up.” Lil Wayne later responded to this song with “Nah This Ain’t The Remix” by remaking the hook, and admitting to being a “little upset” before ultimately giving Snoop his props by paraphrasing a line from Jay Z’s “Takeover”\n",
      "Nah, I ain’t a hater, don’t get me wrong\n",
      "I made it a hot line, you made it a hot song\n",
      "This song was released as a playable track in the Rock Band game series, albeit as an alternate rock remix to better fit with the game setting.\n",
      "\n"
     ]
    }
   ],
   "source": [
    "response = requests.get(\"https://genius.com/Snoop-dogg-drop-it-like-its-hot-lyrics\")\n",
    "print(response.status_code)\n",
    "soup = bs4.BeautifulSoup(response.content, \"html.parser\")\n",
    "comment = soup.find(\"div\", {\"class\": \"hwxsoX\"})\n",
    "result = \"We couldn't find much buzz about this song :(\" if comment is None else re.sub(r'^https?:\\/\\/.*[\\r\\n]*', '', comment.getText(), flags=re.MULTILINE)\n",
    "print(result)\n",
    "\n",
    "#print(soup.prettify())"
   ]
  },
  {
   "cell_type": "code",
   "execution_count": 36,
   "metadata": {},
   "outputs": [
    {
     "name": "stdout",
     "output_type": "stream",
     "text": [
      "200\n",
      "The phrase “Drop it like it’s hot” existed in hip-hop for many years before this song—but Snoop and Pharrell undoubtedly brought it to new heights when this became Snoop’s first\n"
     ]
    }
   ],
   "source": [
    "response = requests.get(\"https://genius.com/Snoop-dogg-drop-it-like-its-hot-lyrics\")\n",
    "print(response.status_code)\n",
    "soup = bs4.BeautifulSoup(response.content, \"html.parser\")\n",
    "description = soup.find(\"meta\", property=\"og:description\")\n",
    "result = \"We couldn't find much buzz about this song :(\" if description is None else re.sub(r'^https?:\\/\\/.*[\\r\\n]*', '', description['content'], flags=re.MULTILINE)\n",
    "print(result)"
   ]
  },
  {
   "cell_type": "code",
   "execution_count": 39,
   "metadata": {},
   "outputs": [
    {
     "name": "stdout",
     "output_type": "stream",
     "text": [
      "200\n",
      "The phrase “Drop it like it’s hot” existed in hip-hop for many years before this song—but Snoop and Pharrell undoubtedly brought it to new heights when this became Snoop’s first ever #1 hit on Billboard.\n",
      "Snoop and Pharrell recalled the making of this song on GGN including how Pharrell came up with the hook, what inspired the spray can sound on the beat, how P made Snoop rewrite his second verse, and how Chad Hugo added the synth drop to the beat:\n",
      "Everyone from Lil Flip to Positive K to Jay Z had used the phrase on songs before this came out, but it was made famous by a 17-year-old Lil Wayne when he uttered it on Juvenile’s 1999 smash “Back That Azz Up.” Lil Wayne later responded to this song with “Nah This Ain’t The Remix” by remaking the hook, and admitting to being a “little upset” before ultimately giving Snoop his props by paraphrasing a line from Jay Z’s “Takeover”\n",
      "Nah, I ain’t a hater, don’t get me wrong\n",
      "I made it a hot line, you made it a hot song\n",
      "This song was released as a playable track in the Rock Band game series, albeit as an alternate rock remix to better fit with the game setting.\n",
      "\n"
     ]
    }
   ],
   "source": [
    "response = requests.get(\"https://genius.com/Snoop-dogg-drop-it-like-its-hot-lyrics\")\n",
    "print(response.status_code)\n",
    "soup = bs4.BeautifulSoup(response.content, \"html.parser\")\n",
    "comment = soup.find(\"div\", {\"class\": \"ikywhQ\"}) #about box\n",
    "result = \"We couldn't find much buzz about this song :(\" if comment is None else re.sub(r'^https?:\\/\\/.*[\\r\\n]*', '', comment.getText(), flags=re.MULTILINE)\n",
    "print(result)"
   ]
  },
  {
   "cell_type": "code",
   "execution_count": 2,
   "metadata": {},
   "outputs": [
    {
     "name": "stdout",
     "output_type": "stream",
     "text": [
      "200\n",
      "The expression \"Drop it like it's hot\" means moving your butt down to the dancefloor, something rappers often implore women to do, as in the Lil' Jon & Eastside Boyz song \"Get Low.\" The expression was initially popularized when it was used during a rap by Lil' Wayne on Juvenile's 1999 single \"Back That Azz Up.\"Snoop Dogg mentions his affiliation with Los Angeles gang the Crips when he raps about his \"Blue Flag\" (Crip colors) on the \"Left Side,\" which he says is the \"Crip Side.\"Pharrell Williams is featured in the first verse of the song. Along with his Neptunes partner Chad Hugo, he produced the track.Jay-Z did a remake of this song where he mentions R. Kelly, telling him to drop the lawsuit Kelly filed against him like it's hot.Snoop Dogg Snoop rewrote and re-recorded the track in 2012 under the new title \"Pocket Like It's Hot\" for a campaign for US microwavable snack brand Hot Pockets.\n"
     ]
    }
   ],
   "source": [
    "headers = {'User-Agent': 'Googlebot/2.1'}\n",
    "response = requests.get(\"https://www.songfacts.com/facts/snoop-dogg/drop-it-like-its-hot\",headers=headers)\n",
    "print(response.status_code)\n",
    "soup = bs4.BeautifulSoup(response.content, \"html.parser\")\n",
    "comment = soup.find(\"ul\", {\"class\": \"songfacts-results\"})\n",
    "result = \"We couldn't find much buzz about this song :(\" if comment is None else comment.getText()\n",
    "print(result)\n",
    "#print(soup.prettify())"
   ]
  },
  {
   "cell_type": "code",
   "execution_count": 3,
   "metadata": {},
   "outputs": [
    {
     "name": "stdout",
     "output_type": "stream",
     "text": [
      "[]\n"
     ]
    }
   ],
   "source": [
    "response = requests.get(\"https://genius.com/search?q=\" + \"snoop dogg drop it like its hot\")\n",
    "soup = bs4.BeautifulSoup(response.content, \"html.parser\")\n",
    "\n",
    "links = soup.find_all(\"a\", {\"class\": \"mini-card\"})\n",
    "print(links)\n",
    "\n",
    "#print(soup.prettify())"
   ]
  },
  {
   "cell_type": "code",
   "execution_count": 1,
   "metadata": {},
   "outputs": [
    {
     "name": "stdout",
     "output_type": "stream",
     "text": [
      "200\n",
      "The expression \"Drop it like it's hot\" means moving your butt down to the dancefloor, something rappers often implore women to do, as in the Lil' Jon & Eastside Boyz song \"Get Low.\" The expression was initially popularized when it was used during a rap by Lil' Wayne on Juvenile's 1999 single \"Back That Azz Up.\"\n"
     ]
    }
   ],
   "source": [
    "# scraper.py\n",
    "from scraper import search2\n",
    "song_info = {\"song_name\": \"Drop It Like It's Hot\", \"artist_name\":\"Snoop Dogg\"}\n",
    "result = search2(song_info)\n",
    "print(result)"
   ]
  },
  {
   "cell_type": "code",
   "execution_count": 3,
   "metadata": {},
   "outputs": [
    {
     "name": "stdout",
     "output_type": "stream",
     "text": [
      "[<selenium.webdriver.firefox.webelement.FirefoxWebElement (session=\"4abe9677-489a-44fe-9a3d-1405c63e2cc6\", element=\"8a958c43-4249-48ce-ba4a-38176a4aee4b\")>, <selenium.webdriver.firefox.webelement.FirefoxWebElement (session=\"4abe9677-489a-44fe-9a3d-1405c63e2cc6\", element=\"1981c72c-16c4-487a-b762-250b0ee3d938\")>, <selenium.webdriver.firefox.webelement.FirefoxWebElement (session=\"4abe9677-489a-44fe-9a3d-1405c63e2cc6\", element=\"72ac3da9-1368-4fb7-8b65-23bcf94a6105\")>, <selenium.webdriver.firefox.webelement.FirefoxWebElement (session=\"4abe9677-489a-44fe-9a3d-1405c63e2cc6\", element=\"ab99672b-755d-43c2-8bd1-ab357352a858\")>, <selenium.webdriver.firefox.webelement.FirefoxWebElement (session=\"4abe9677-489a-44fe-9a3d-1405c63e2cc6\", element=\"51d48d76-f635-4f44-ac6b-6854ba493356\")>, <selenium.webdriver.firefox.webelement.FirefoxWebElement (session=\"4abe9677-489a-44fe-9a3d-1405c63e2cc6\", element=\"fb1a91f4-16ca-4276-b325-e8541f1236f9\")>, <selenium.webdriver.firefox.webelement.FirefoxWebElement (session=\"4abe9677-489a-44fe-9a3d-1405c63e2cc6\", element=\"9bf380e8-20d1-42dd-98ac-3b168c920927\")>, <selenium.webdriver.firefox.webelement.FirefoxWebElement (session=\"4abe9677-489a-44fe-9a3d-1405c63e2cc6\", element=\"13d4025f-b609-46e9-9c9f-cc67e38e66db\")>, <selenium.webdriver.firefox.webelement.FirefoxWebElement (session=\"4abe9677-489a-44fe-9a3d-1405c63e2cc6\", element=\"dd463596-7fb9-4b1c-9ebb-02933e4b67e5\")>, <selenium.webdriver.firefox.webelement.FirefoxWebElement (session=\"4abe9677-489a-44fe-9a3d-1405c63e2cc6\", element=\"d79466f5-c7ea-4efb-b9be-b0706bf68df3\")>]\n",
      "200\n",
      "We couldn't find much buzz about this song :(\n"
     ]
    }
   ],
   "source": [
    "from scraper import search\n",
    "song_info = {\"song_name\": \"Drop It Like It's Hot\", \"artist_name\":\"Snoop Dogg\"}\n",
    "result = search(song_info)"
   ]
  },
  {
   "cell_type": "code",
   "execution_count": null,
   "metadata": {},
   "outputs": [],
   "source": []
  }
 ],
 "metadata": {
  "kernelspec": {
   "display_name": "Python 3",
   "language": "python",
   "name": "python3"
  },
  "language_info": {
   "codemirror_mode": {
    "name": "ipython",
    "version": 3
   },
   "file_extension": ".py",
   "mimetype": "text/x-python",
   "name": "python",
   "nbconvert_exporter": "python",
   "pygments_lexer": "ipython3",
   "version": "3.7.6"
  }
 },
 "nbformat": 4,
 "nbformat_minor": 4
}
